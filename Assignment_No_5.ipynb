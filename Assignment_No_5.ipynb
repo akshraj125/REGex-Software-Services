{
  "nbformat": 4,
  "nbformat_minor": 0,
  "metadata": {
    "colab": {
      "name": "Assignment_No_5.ipynb",
      "provenance": [],
      "collapsed_sections": []
    },
    "kernelspec": {
      "name": "python3",
      "display_name": "Python 3"
    },
    "language_info": {
      "name": "python"
    }
  },
  "cells": [
    {
      "cell_type": "markdown",
      "metadata": {
        "id": "ovqFs6ut65G3"
      },
      "source": [
        "##  **Task : 5**\n",
        " \n",
        "* Registration/Referral Id : SIRSS2190 \n",
        " \n",
        "* Name : Akshay Sanjay Chaudhari"
      ]
    },
    {
      "cell_type": "markdown",
      "metadata": {
        "id": "lXrY2QUKqZ4f"
      },
      "source": [
        "\n",
        "**Q1. Given a list of integers, write a function to return the sum of all prime numbers in that list.**"
      ]
    },
    {
      "cell_type": "code",
      "metadata": {
        "colab": {
          "base_uri": "https://localhost:8080/"
        },
        "id": "Qqvcmg-Nqf7d",
        "outputId": "8e6dbb28-1de2-4e64-93d3-ad23d7055a14"
      },
      "source": [
        "import math\n",
        "def prime(n):\n",
        "    if n == 0 or n == 1:\n",
        "        return False\n",
        "    else:\n",
        "        for i in range(2, int(n**0.5)+1):\n",
        "            if n%i == 0:\n",
        "                return False\n",
        "                break\n",
        "        else:\n",
        "            return True\n",
        "            \n",
        "def sum_prime(ls):\n",
        "    sum_of_primes=0\n",
        "    print(\"Prime numbers in list :\")\n",
        "    for i in ls:\n",
        "        if prime(i):\n",
        "            print(i)\n",
        "            sum_of_primes += i\n",
        "    print(\"Sum of primes :\",sum_of_primes)\n",
        "sum_prime([0,1,2,3,4,5,10,11,12,13])"
      ],
      "execution_count": 1,
      "outputs": [
        {
          "output_type": "stream",
          "name": "stdout",
          "text": [
            "Prime numbers in list :\n",
            "2\n",
            "3\n",
            "5\n",
            "11\n",
            "13\n",
            "Sum of primes : 34\n"
          ]
        }
      ]
    },
    {
      "cell_type": "markdown",
      "metadata": {
        "id": "eBuLEPFhqumr"
      },
      "source": [
        "**Q2. Given a list of integers, write a function to check whether the list is strictly increasing or not.**"
      ]
    },
    {
      "cell_type": "code",
      "metadata": {
        "colab": {
          "base_uri": "https://localhost:8080/"
        },
        "id": "e1h5p236q2Rd",
        "outputId": "e77e667e-7a64-47cb-a2af-0917e083c426"
      },
      "source": [
        "def Inc(l):\n",
        "    flag=True\n",
        "    for i in range(1,len(l)):\n",
        "        if l[i-1]>l[i]:\n",
        "            flag=False\n",
        "            break\n",
        "    return flag\n",
        "l1=input().split()\n",
        "list1=list(map(lambda x:int(x),l1))\n",
        "print('List is strictly increases : ',Inc(list1))"
      ],
      "execution_count": 2,
      "outputs": [
        {
          "output_type": "stream",
          "name": "stdout",
          "text": [
            "11 12 13\n",
            "List is strictly increases :  True\n"
          ]
        }
      ]
    },
    {
      "cell_type": "markdown",
      "metadata": {
        "id": "pqFO99muq6De"
      },
      "source": [
        "**Q3. Write a function to check whether a given list is expanding or not (the difference between adjacent elements should keep on increasing).**"
      ]
    },
    {
      "cell_type": "code",
      "metadata": {
        "colab": {
          "base_uri": "https://localhost:8080/"
        },
        "id": "Ww-M6FqAq_iH",
        "outputId": "881b8153-e391-44d8-f2cd-ea92e62a40e1"
      },
      "source": [
        "def expanding(l):\n",
        "    d1 = abs(l[1] - l[0])\n",
        "    d2 = abs(l[2] - l[1])\n",
        "    \n",
        "    if d1 >= d2:\n",
        "        return False\n",
        "    \n",
        "    else:\n",
        "        for i in range(3,len(l)):\n",
        "            d3 = abs(l[i] - l[i-1])\n",
        "            if d3 <= d2:\n",
        "                return False\n",
        "            d2 = d3\n",
        "        else:\n",
        "            return True\n",
        "expanding([1,3,7,2,9])"
      ],
      "execution_count": 3,
      "outputs": [
        {
          "output_type": "execute_result",
          "data": {
            "text/plain": [
              "True"
            ]
          },
          "metadata": {},
          "execution_count": 3
        }
      ]
    },
    {
      "cell_type": "markdown",
      "metadata": {
        "id": "n6oY5YX43CNa"
      },
      "source": [
        "\n",
        "**Q4. Write a function to calculate all permutations of a given string. (Without using itertools)** "
      ]
    },
    {
      "cell_type": "code",
      "metadata": {
        "colab": {
          "base_uri": "https://localhost:8080/"
        },
        "id": "G7djTAbG3SKw",
        "outputId": "3e2a5fcd-d05d-4611-8342-7467fbf963ae"
      },
      "source": [
        "def permutation(str) :\n",
        "    if len(str) == 1 :\n",
        "        return [str]\n",
        "    prmts = permutation(str[1:])\n",
        "    fst = str[0]\n",
        "    rslt = []\n",
        "    for i in prmts :\n",
        "        for j in range(len(i)+1) :\n",
        "            rslt.append(i[:j] + fst + i[j:])\n",
        "    return rslt\n",
        "\n",
        "\n",
        "inp = str(input(\"Enter the String : \"))\n",
        "permutation(inp)"
      ],
      "execution_count": 4,
      "outputs": [
        {
          "name": "stdout",
          "output_type": "stream",
          "text": [
            "Enter the String : abc\n"
          ]
        },
        {
          "output_type": "execute_result",
          "data": {
            "text/plain": [
              "['abc', 'bac', 'bca', 'acb', 'cab', 'cba']"
            ]
          },
          "metadata": {},
          "execution_count": 4
        }
      ]
    },
    {
      "cell_type": "code",
      "metadata": {
        "id": "HDLNrbWi3cEy"
      },
      "source": [
        ""
      ],
      "execution_count": null,
      "outputs": []
    }
  ]
}