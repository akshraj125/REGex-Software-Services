{
  "nbformat": 4,
  "nbformat_minor": 0,
  "metadata": {
    "colab": {
      "name": "Assignment_No_4.ipynb",
      "provenance": [],
      "collapsed_sections": []
    },
    "kernelspec": {
      "name": "python3",
      "display_name": "Python 3"
    },
    "language_info": {
      "name": "python"
    }
  },
  "cells": [
    {
      "cell_type": "markdown",
      "metadata": {
        "id": "zqUeNDioJtDl"
      },
      "source": [
        "##  **Task : 4**\n",
        " \n",
        "* Registration/Referral Id : SIRSS2190 \n",
        " \n",
        "* Name : Akshay Sanjay Chaudhari"
      ]
    },
    {
      "cell_type": "markdown",
      "metadata": {
        "id": "tVPQix0MJxqJ"
      },
      "source": [
        "\n",
        "\n",
        "**First, let’s import the necessary libraries and store the data in our system for analysis.**"
      ]
    },
    {
      "cell_type": "code",
      "metadata": {
        "id": "wOzb0DdOKXH4"
      },
      "source": [
        "import pandas as pd\n",
        "import seaborn as sns\n",
        "import numpy as np\n",
        "import matplotlib.pyplot as plt"
      ],
      "execution_count": null,
      "outputs": []
    },
    {
      "cell_type": "code",
      "metadata": {
        "id": "kDTT5PRuKYZ0"
      },
      "source": [
        "data=pd.read_csv(\"vaccinationdata.csv\")"
      ],
      "execution_count": null,
      "outputs": []
    },
    {
      "cell_type": "markdown",
      "metadata": {
        "id": "_bxJz8yFKfZx"
      },
      "source": [
        "**Displaying first 10 rows**"
      ]
    },
    {
      "cell_type": "code",
      "metadata": {
        "id": "cvrpvmK6KdIk"
      },
      "source": [
        "data.head(10)"
      ],
      "execution_count": null,
      "outputs": []
    },
    {
      "cell_type": "markdown",
      "metadata": {
        "id": "2FYz_yTWK0zq"
      },
      "source": [
        "**Displaying last 5 rows**"
      ]
    },
    {
      "cell_type": "code",
      "metadata": {
        "id": "Wv7m0e8CKzq0"
      },
      "source": [
        "data.tail()"
      ],
      "execution_count": null,
      "outputs": []
    },
    {
      "cell_type": "markdown",
      "metadata": {
        "id": "IhJFTFBKLIC6"
      },
      "source": [
        "**Displaying general information about our dataset**"
      ]
    },
    {
      "cell_type": "code",
      "metadata": {
        "id": "cIjrvLY0LQ2A"
      },
      "source": [
        "type(data)"
      ],
      "execution_count": null,
      "outputs": []
    },
    {
      "cell_type": "code",
      "metadata": {
        "id": "pMeSmkblLa0_"
      },
      "source": [
        "data.info()"
      ],
      "execution_count": null,
      "outputs": []
    },
    {
      "cell_type": "code",
      "metadata": {
        "id": "u_WRnC7qLe2g"
      },
      "source": [
        "data.shape"
      ],
      "execution_count": null,
      "outputs": []
    },
    {
      "cell_type": "markdown",
      "metadata": {
        "id": "i9eFI3_MLnac"
      },
      "source": [
        "**Checking for null values and handeling them.**"
      ]
    },
    {
      "cell_type": "code",
      "metadata": {
        "id": "ZV3J5wcvLrkv"
      },
      "source": [
        "#checking the missing values\n",
        "data.isnull().sum()"
      ],
      "execution_count": null,
      "outputs": []
    },
    {
      "cell_type": "code",
      "metadata": {
        "id": "LdodyX1wLwIX"
      },
      "source": [
        "fv = data['FULLY_VACCINATED'].mean()\n",
        "plusdose = data['PERSONS_VACCINATED_1PLUS_DOSE'].mean()\n",
        "nov = data['TOTAL_VACCINATIONS'].mean()\n",
        "used = data['NUMBER_VACCINES_TYPES_USED'].mean()\n",
        "data['FULLY_VACCINATED'].replace(np.nan, fv, inplace = True)\n",
        "data['PERSONS_VACCINATED_1PLUS_DOSE'].replace(np.nan, plusdose, inplace = True)\n",
        "data['TOTAL_VACCINATIONS'].replace(np.nan, nov, inplace = True)\n",
        "data['NUMBER_VACCINES_TYPES_USED'].replace(np.nan, used, inplace = True)\n"
      ],
      "execution_count": null,
      "outputs": []
    },
    {
      "cell_type": "markdown",
      "metadata": {
        "id": "c-RL0PNzMI4I"
      },
      "source": [
        "**Displaying Statistical Insight about dataset.**\n",
        "\n",
        "* This step should be performed for getting details about various statistical data like Mean, Standard Deviation, Median, Max Value, Min Value, Correlation."
      ]
    },
    {
      "cell_type": "code",
      "metadata": {
        "id": "h7lM6arCMUY5"
      },
      "source": [
        "data.dtypes"
      ],
      "execution_count": null,
      "outputs": []
    },
    {
      "cell_type": "code",
      "metadata": {
        "id": "LyIuoCvLMYnw"
      },
      "source": [
        "data.columns"
      ],
      "execution_count": null,
      "outputs": []
    },
    {
      "cell_type": "code",
      "metadata": {
        "id": "atKfkxrGMdKA"
      },
      "source": [
        "data['TOTAL_VACCINATIONS'].describe()"
      ],
      "execution_count": null,
      "outputs": []
    },
    {
      "cell_type": "code",
      "metadata": {
        "id": "gF7oITdpMkbu"
      },
      "source": [
        "data['TOTAL_VACCINATIONS'].mean()"
      ],
      "execution_count": null,
      "outputs": []
    },
    {
      "cell_type": "code",
      "metadata": {
        "id": "MEljHxK5Mnp6"
      },
      "source": [
        "data['TOTAL_VACCINATIONS'].std()"
      ],
      "execution_count": null,
      "outputs": []
    },
    {
      "cell_type": "code",
      "metadata": {
        "id": "Yaq76ekKMrFK"
      },
      "source": [
        "data['TOTAL_VACCINATIONS'].count()"
      ],
      "execution_count": null,
      "outputs": []
    },
    {
      "cell_type": "code",
      "metadata": {
        "id": "p0SDMYJAMvAA"
      },
      "source": [
        "data.describe()"
      ],
      "execution_count": null,
      "outputs": []
    },
    {
      "cell_type": "code",
      "metadata": {
        "id": "QLKWToTxM2Fn"
      },
      "source": [
        "data.corr()"
      ],
      "execution_count": null,
      "outputs": []
    },
    {
      "cell_type": "code",
      "metadata": {
        "id": "EF8Xvda_M3Uj"
      },
      "source": [
        "plt.style.use('seaborn-darkgrid')"
      ],
      "execution_count": null,
      "outputs": []
    },
    {
      "cell_type": "markdown",
      "metadata": {
        "id": "NgttEUXfNFrR"
      },
      "source": [
        "**Showing heatmap for achieved correlation.**\n",
        "\n",
        "* Heatmap is defined as a graphical representation of data using colors to visualize the value of the matrix. Heatmap is also defined by the name of the shading matrix. Heatmaps in Seaborn can be plotted by using the seaborn.heatmap() function."
      ]
    },
    {
      "cell_type": "code",
      "metadata": {
        "id": "CEZQoUV3M-20"
      },
      "source": [
        "plt.figure(figsize = (12, 8))\n",
        "sns.heatmap(data.corr(), annot = True)"
      ],
      "execution_count": null,
      "outputs": []
    },
    {
      "cell_type": "markdown",
      "metadata": {
        "id": "6fMJkQOoNapo"
      },
      "source": [
        "**Numeric-Numeric Analysis**\n",
        "\n",
        "Analyzing the two numeric variables from a dataset is known as numeric-numeric analysis. We can analyze it in three different ways.\n",
        "\n",
        "* Scatterplot\n",
        "* Pairplot\n",
        "* Barplot\n",
        "* Piechart\n",
        "* Lineplot"
      ]
    },
    {
      "cell_type": "markdown",
      "metadata": {
        "id": "b7rbuZzmNsKX"
      },
      "source": [
        "**Scatter Plot**\n",
        "\n",
        "* The scatter plot is a mainstay of statistical visualization. It depicts the joint distribution of two variables using a cloud of points, where each point represents an observation in the dataset. This depiction allows the eye to infer a substantial amount of information about whether there is any meaningful relationship between them."
      ]
    },
    {
      "cell_type": "code",
      "metadata": {
        "id": "jrMDf2MFN2yU"
      },
      "source": [
        "plt.figure(figsize=(10,7))\n",
        "sns.scatterplot(x = 'FULLY_VACCINATED', y = 'TOTAL_VACCINATIONS', data = data, color = 'r', marker = '*')"
      ],
      "execution_count": null,
      "outputs": []
    },
    {
      "cell_type": "markdown",
      "metadata": {
        "id": "p07gFpvaN7pU"
      },
      "source": [
        "**Pair Plot**\n",
        "\n",
        "* A pairplot plot a pairwise relationships in a dataset. The pairplot function creates a grid of Axes such that each variable in data will by shared in the y-axis across a single row and in the x-axis across a single column."
      ]
    },
    {
      "cell_type": "code",
      "metadata": {
        "id": "nupz2s73OFrm"
      },
      "source": [
        "plt.figure(figsize=(20,10))\n",
        "sns.pairplot(data=data,vars=['PERSONS_FULLY_VACCINATED_PER100','FULLY_VACCINATED','TOTAL_VACCINATIONS'])\n",
        "plt.show()"
      ],
      "execution_count": null,
      "outputs": []
    },
    {
      "cell_type": "markdown",
      "metadata": {
        "id": "g92qEsMQOJ1o"
      },
      "source": [
        "**Histogram**"
      ]
    },
    {
      "cell_type": "code",
      "metadata": {
        "id": "a8aIAXqROaTA"
      },
      "source": [
        "plt.hist(data['FULLY_VACCINATED'])"
      ],
      "execution_count": null,
      "outputs": []
    },
    {
      "cell_type": "markdown",
      "metadata": {
        "id": "Sub5CHMROebm"
      },
      "source": [
        "\n",
        "**Barchart**\n",
        "\n",
        "* Barplot will show the relation between two numeric data"
      ]
    },
    {
      "cell_type": "code",
      "metadata": {
        "id": "9tMvT47FOnxg"
      },
      "source": [
        "plt.figure(figsize=(30,30))\n",
        "sns.barplot(data['WHO_REGION'], data['TOTAL_VACCINATIONS'])"
      ],
      "execution_count": null,
      "outputs": []
    },
    {
      "cell_type": "markdown",
      "metadata": {
        "id": "mzQ-gwkJO6b3"
      },
      "source": [
        "\n",
        "**Piechart**\n",
        "\n",
        "* A Pie Chart is a circular statistical plot that can display only one series of data."
      ]
    },
    {
      "cell_type": "code",
      "metadata": {
        "id": "UV_HTkG3PAj_"
      },
      "source": [
        "plt.figure(figsize = (12, 12))\n",
        "df = [fv, plusdose, nov]\n",
        "alcohol = ['Fully Vacinated', 'One plus Dose', 'Total Vacinations']\n",
        "plt.pie(df, labels = alcohol)\n",
        "plt.title('Total Vaccinations Done')"
      ],
      "execution_count": null,
      "outputs": []
    },
    {
      "cell_type": "markdown",
      "metadata": {
        "id": "7zuwHS3WPCnx"
      },
      "source": [
        "**Line Plot**"
      ]
    },
    {
      "cell_type": "code",
      "metadata": {
        "id": "OXVYp577PPMy"
      },
      "source": [
        "plt.figure(figsize=(20,6))\n",
        "plt.style.use('seaborn-darkgrid')\n",
        "sns.lineplot(x = data['WHO_REGION'], y =  data['PERSONS_VACCINATED_1PLUS_DOSE'],linewidth=1.5,label='PERSONS_VACCINATED_1PLUS_DOSE')\n",
        "sns.lineplot(x = data['WHO_REGION'], y =  data['VACCINATED_1PLUS_DOSE_PER100'],linewidth=1.5,label='VACCINATED_1PLUS_DOSE_PER100')"
      ],
      "execution_count": null,
      "outputs": []
    },
    {
      "cell_type": "code",
      "metadata": {
        "id": "6_EwY8AIPUBk"
      },
      "source": [
        "cols = ['WHO_REGION', 'TOTAL_VACCINATIONS','FULLY_VACCINATED','NUMBER_VACCINES_TYPES_USED']\n",
        "X = data[cols]\n",
        "Y = data[['NUMBER_VACCINES_TYPES_USED']]\n",
        "X.head(10)"
      ],
      "execution_count": null,
      "outputs": []
    },
    {
      "cell_type": "code",
      "metadata": {
        "id": "xi3dkvfAPYPl"
      },
      "source": [
        "from sklearn.preprocessing import StandardScaler\n",
        "sc = StandardScaler()\n",
        "cols = ['TOTAL_VACCINATIONS','FULLY_VACCINATED']\n",
        "X[cols] = sc.fit_transform(X[cols])"
      ],
      "execution_count": null,
      "outputs": []
    },
    {
      "cell_type": "code",
      "metadata": {
        "id": "fg9f-GORPbLQ"
      },
      "source": [
        "from sklearn.preprocessing import LabelEncoder\n",
        "le = LabelEncoder()\n",
        "X['WHO_REGION'] = le.fit_transform(X['WHO_REGION'])"
      ],
      "execution_count": null,
      "outputs": []
    },
    {
      "cell_type": "code",
      "metadata": {
        "id": "-4KHNCQWPf3b"
      },
      "source": [
        "X.head()"
      ],
      "execution_count": null,
      "outputs": []
    }
  ]
}