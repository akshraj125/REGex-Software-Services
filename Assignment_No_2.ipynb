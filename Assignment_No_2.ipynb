{
  "nbformat": 4,
  "nbformat_minor": 0,
  "metadata": {
    "colab": {
      "name": "Assignment_No_2.ipynb",
      "provenance": [],
      "collapsed_sections": []
    },
    "kernelspec": {
      "name": "python3",
      "display_name": "Python 3"
    },
    "language_info": {
      "name": "python"
    }
  },
  "cells": [
    {
      "cell_type": "markdown",
      "metadata": {
        "id": "BPaWu8hsqOqD"
      },
      "source": [
        "##  **Task : 2**\n",
        " \n",
        "* Registration/Referral Id : SIRSS2190 \n",
        " \n",
        "* Name : Akshay Sanjay Chaudhari"
      ]
    },
    {
      "cell_type": "markdown",
      "metadata": {
        "id": "uMV4BkYo4CIk"
      },
      "source": [
        "**Q1. Write a lambda expression to extract first word of a string.**"
      ]
    },
    {
      "cell_type": "code",
      "metadata": {
        "colab": {
          "base_uri": "https://localhost:8080/"
        },
        "id": "gvgPlovn4KwX",
        "outputId": "7a1a0eb3-1b31-4a64-d341-0bb0e06a6d6c"
      },
      "source": [
        "a = 'Write a lambda expression to extract first word of a string. '\n",
        "x = lambda y : y.split()[0]\n",
        "print(x(a))"
      ],
      "execution_count": 1,
      "outputs": [
        {
          "output_type": "stream",
          "name": "stdout",
          "text": [
            "Write\n"
          ]
        }
      ]
    },
    {
      "cell_type": "markdown",
      "metadata": {
        "id": "QvrCc2Xs4PiE"
      },
      "source": [
        "**Q2. Write a function to extract first word of s string (with many words separated by space).**"
      ]
    },
    {
      "cell_type": "code",
      "metadata": {
        "colab": {
          "base_uri": "https://localhost:8080/"
        },
        "id": "qRqwt-084Vsj",
        "outputId": "a5fb172d-aec4-498d-b69b-c7d05a1f148d"
      },
      "source": [
        "\n",
        "y = 'Write a function to extract first word of s string (with many words separated by space).'\n",
        "def extract(a):\n",
        "    return a.split()[0]\n",
        "print(extract(y))"
      ],
      "execution_count": 2,
      "outputs": [
        {
          "output_type": "stream",
          "name": "stdout",
          "text": [
            "Write\n"
          ]
        }
      ]
    },
    {
      "cell_type": "markdown",
      "metadata": {
        "id": "e3lECjIR4bPa"
      },
      "source": [
        "**Q3. Extract the first word from every string from a list of strings by using map function.**"
      ]
    },
    {
      "cell_type": "code",
      "metadata": {
        "colab": {
          "base_uri": "https://localhost:8080/"
        },
        "id": "Rpt_wcXp4lJs",
        "outputId": "8f56f630-e11b-4e42-e078-9b9d47a8a405"
      },
      "source": [
        "l1 = ['Write a lambda expression to extract first word of a string. ',\n",
        "      'Write a function to extract first word of s string (with many words separated by space).',\n",
        "      'Extract the first word from every string from a list of strings by using map function.',\n",
        "      'Write a function to return a list of prime factors of a given number.']\n",
        "\n",
        "def extract(a):\n",
        "    return a.split()[0]\n",
        "\n",
        "result = map(extract,l1)\n",
        "print(list(result))"
      ],
      "execution_count": 3,
      "outputs": [
        {
          "output_type": "stream",
          "name": "stdout",
          "text": [
            "['Write', 'Write', 'Extract', 'Write']\n"
          ]
        }
      ]
    },
    {
      "cell_type": "markdown",
      "metadata": {
        "id": "arYMWzUZ4qp2"
      },
      "source": [
        "**Q4. Write a function to return a list of prime factors of a given number.**"
      ]
    },
    {
      "cell_type": "code",
      "metadata": {
        "colab": {
          "base_uri": "https://localhost:8080/"
        },
        "id": "0Mt70ska4wiB",
        "outputId": "94885299-2e6d-4b4f-902a-e5e501f2275d"
      },
      "source": [
        "def prime_fact(x):\n",
        "    p_factors = []\n",
        "    div = 2\n",
        "    \n",
        "    while div <= x:\n",
        "        if x%div == 0:\n",
        "            p_factors.append(div)\n",
        "            x = x/div\n",
        "        else:\n",
        "            div += 1\n",
        "    return p_factors\n",
        "\n",
        "a = int(input(\"Enter a number :\"))\n",
        "print(prime_fact(a))"
      ],
      "execution_count": 5,
      "outputs": [
        {
          "output_type": "stream",
          "name": "stdout",
          "text": [
            "Enter a number :630\n",
            "[2, 3, 3, 5, 7]\n"
          ]
        }
      ]
    },
    {
      "cell_type": "markdown",
      "metadata": {
        "id": "Gp57IwTl4-cu"
      },
      "source": [
        "**Q5. Write a function that finds 2nd largest among 4 numbers (Repetitions are allowed, without sorting).**"
      ]
    },
    {
      "cell_type": "code",
      "metadata": {
        "colab": {
          "base_uri": "https://localhost:8080/"
        },
        "id": "in1YqLmj5FM1",
        "outputId": "8c684138-920e-4560-f78d-7dbf35188f8d"
      },
      "source": [
        "list1 = []\n",
        " \n",
        "def second_largest(l):\n",
        "    new_list = set(l)\n",
        "    new_list.remove(max(new_list))\n",
        "    return max(new_list)\n",
        "\n",
        "for i in range(1, 5):\n",
        "    ele = int(input(\"Enter elements: \"))\n",
        "    list1.append(ele)\n",
        "    \n",
        "print('Original elements: ',list1)\n",
        "print('2nd largest among 4 numbers: ',second_largest(list1))"
      ],
      "execution_count": 6,
      "outputs": [
        {
          "output_type": "stream",
          "name": "stdout",
          "text": [
            "Enter elements: 5\n",
            "Enter elements: 8\n",
            "Enter elements: 9\n",
            "Enter elements: 9\n",
            "Original elements:  [5, 8, 9, 9]\n",
            "2nd largest among 4 numbers:  8\n"
          ]
        }
      ]
    }
  ]
}