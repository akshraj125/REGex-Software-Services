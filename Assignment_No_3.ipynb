{
  "nbformat": 4,
  "nbformat_minor": 0,
  "metadata": {
    "colab": {
      "name": "Assignment No 3.ipynb",
      "provenance": []
    },
    "kernelspec": {
      "name": "python3",
      "display_name": "Python 3"
    },
    "language_info": {
      "name": "python"
    }
  },
  "cells": [
    {
      "cell_type": "markdown",
      "metadata": {
        "id": "dlbgwjNU5qND"
      },
      "source": [
        "##  **Task : 3**\n",
        " \n",
        "* Registration/Referral Id : SIRSS2190 \n",
        " \n",
        "* Name : Akshay Sanjay Chaudhari"
      ]
    },
    {
      "cell_type": "markdown",
      "metadata": {
        "id": "ikWj6GiA5y6v"
      },
      "source": [
        "**Q1. Write a function to return nth term of Fibonacci sequence.**"
      ]
    },
    {
      "cell_type": "code",
      "metadata": {
        "id": "rxbIsC4L6BXf"
      },
      "source": [
        "\n",
        "def fib(n) :\n",
        "    if(n<0) :\n",
        "        return(\"incorrect input\")\n",
        "    elif(n==0):\n",
        "        return 0\n",
        "    elif(n==2 or n==1):\n",
        "        return 1\n",
        "    else : \n",
        "        return (fib(n-1) + fib(n-2))\n",
        "\n",
        "x = int(input(\"Enter a Number : \"))\n",
        "print(fib(x), end = \" \")"
      ],
      "execution_count": null,
      "outputs": []
    },
    {
      "cell_type": "markdown",
      "metadata": {
        "id": "FoR5uNsY6Fj4"
      },
      "source": [
        "\n",
        "**Q2. Write a function to find out GCD of two numbers using EUCLID'S algorithm.**"
      ]
    },
    {
      "cell_type": "code",
      "metadata": {
        "id": "ycwkDT516Ur9"
      },
      "source": [
        "def GCD(a,b):\n",
        "    if b==0:\n",
        "        return a\n",
        "    else:\n",
        "        return GCD(b,a%b)\n",
        "num1=int(input(\"Enter first number : \"))\n",
        "num2=int(input(\"Enter second number : \"))\n",
        "print(\"GCD is : \", GCD(num1,num2))"
      ],
      "execution_count": null,
      "outputs": []
    },
    {
      "cell_type": "markdown",
      "metadata": {
        "id": "K05t3uTr6Y3Z"
      },
      "source": [
        "**Q3. Write a function to find LCM of two number in most optimizers way.**"
      ]
    },
    {
      "cell_type": "code",
      "metadata": {
        "id": "kZ4ucctbI2ne"
      },
      "source": [
        "def lcm(num1,num2):\n",
        "    return (num1//GCD(num1,num2))*num2\n",
        "num1=int(input(\"Enter first number : \"))\n",
        "num2=int(input(\"Enter seconf number : \"))\n",
        "print('Lcm of ',num1,\"and\",num2,'is :',lcm(num1,num2))\n"
      ],
      "execution_count": null,
      "outputs": []
    },
    {
      "cell_type": "markdown",
      "metadata": {
        "id": "SMKrYpfOI8cL"
      },
      "source": [
        ""
      ]
    }
  ]
}