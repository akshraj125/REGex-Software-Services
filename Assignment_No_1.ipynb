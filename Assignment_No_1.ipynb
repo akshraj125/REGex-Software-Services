{
  "nbformat": 4,
  "nbformat_minor": 0,
  "metadata": {
    "colab": {
      "name": "Assignment No 1.ipynb",
      "provenance": [],
      "collapsed_sections": []
    },
    "kernelspec": {
      "name": "python3",
      "display_name": "Python 3"
    },
    "language_info": {
      "name": "python"
    }
  },
  "cells": [
    {
      "cell_type": "markdown",
      "metadata": {
        "id": "9WFaahPc5wLD"
      },
      "source": [
        "\n",
        " \n",
        "*   **Task** : **1**\n",
        "*   Registration/Referral Id : SIRSS2190\n",
        "*   Name : Akshay Sanjay Chaudhari "
      ]
    },
    {
      "cell_type": "markdown",
      "metadata": {
        "id": "LNeTubvz7JSr"
      },
      "source": [
        " **Q.1**"
      ]
    },
    {
      "cell_type": "code",
      "metadata": {
        "colab": {
          "base_uri": "https://localhost:8080/"
        },
        "id": "hEMCMy3H7Vlx",
        "outputId": "703ee49a-9fc0-493b-9158-8eec0d34bf84"
      },
      "source": [
        "for i in range(5):\n",
        "  for j  in range(5-i):\n",
        "    print(5,end=' ')\n",
        "  print()"
      ],
      "execution_count": null,
      "outputs": [
        {
          "output_type": "stream",
          "text": [
            "5 5 5 5 5 \n",
            "5 5 5 5 \n",
            "5 5 5 \n",
            "5 5 \n",
            "5 \n"
          ],
          "name": "stdout"
        }
      ]
    },
    {
      "cell_type": "markdown",
      "metadata": {
        "id": "7W92zSL_7gkN"
      },
      "source": [
        "**Q.2**"
      ]
    },
    {
      "cell_type": "code",
      "metadata": {
        "colab": {
          "base_uri": "https://localhost:8080/"
        },
        "id": "XjGCh8zZ7l-W",
        "outputId": "052991d3-2530-418c-98e7-c6d77b5b6ad3"
      },
      "source": [
        "for i in range(6):\n",
        "  for j in range(6-i):\n",
        "    if i<5:\n",
        "      print(j,end=' ')\n",
        "  print()"
      ],
      "execution_count": null,
      "outputs": [
        {
          "output_type": "stream",
          "text": [
            "0 1 2 3 4 5 \n",
            "0 1 2 3 4 \n",
            "0 1 2 3 \n",
            "0 1 2 \n",
            "0 1 \n",
            "\n"
          ],
          "name": "stdout"
        }
      ]
    },
    {
      "cell_type": "markdown",
      "metadata": {
        "id": "V8mh_Xuq7rYM"
      },
      "source": [
        "**Q.3**"
      ]
    },
    {
      "cell_type": "code",
      "metadata": {
        "colab": {
          "base_uri": "https://localhost:8080/"
        },
        "id": "dOuiMYGo7tp2",
        "outputId": "252035a7-6244-4587-faf6-53167611c0ed"
      },
      "source": [
        "i=1\n",
        "while i<=5:\n",
        "  j=1\n",
        "  while j<=i:\n",
        "    print(i*2-1,end = ' ')\n",
        "    j=j+1\n",
        "  i=i+1\n",
        "  print()\n"
      ],
      "execution_count": null,
      "outputs": [
        {
          "output_type": "stream",
          "text": [
            "1 \n",
            "3 3 \n",
            "5 5 5 \n",
            "7 7 7 7 \n",
            "9 9 9 9 9 \n"
          ],
          "name": "stdout"
        }
      ]
    },
    {
      "cell_type": "markdown",
      "metadata": {
        "id": "Ju3xJWvT7zjv"
      },
      "source": [
        "**Q.4**"
      ]
    },
    {
      "cell_type": "code",
      "metadata": {
        "id": "cvdXzjdC71x5"
      },
      "source": [
        "for i in range(1,6):\n",
        "  for j in range(i,0,-1):\n",
        "    print(j,end=' ')\n",
        "  print()"
      ],
      "execution_count": null,
      "outputs": []
    },
    {
      "cell_type": "markdown",
      "metadata": {
        "id": "rcE1AN7n78q5"
      },
      "source": [
        "**Q.5**"
      ]
    },
    {
      "cell_type": "code",
      "metadata": {
        "colab": {
          "base_uri": "https://localhost:8080/"
        },
        "id": "miMnm55T7-9S",
        "outputId": "69cb81a9-643b-424b-803f-ef0271edee28"
      },
      "source": [
        "a=1\n",
        "b=2\n",
        "c=b\n",
        "for i in range(2,6):\n",
        "  for j in range(a,b):\n",
        "    c-=1\n",
        "    print(c,end=' ')\n",
        "  print()\n",
        "  a=b\n",
        "  b+=i\n",
        "  c=b\n"
      ],
      "execution_count": null,
      "outputs": [
        {
          "output_type": "stream",
          "text": [
            "1 \n",
            "3 2 \n",
            "6 5 4 \n",
            "10 9 8 7 \n"
          ],
          "name": "stdout"
        }
      ]
    },
    {
      "cell_type": "markdown",
      "metadata": {
        "id": "0ainACXT8GIC"
      },
      "source": [
        "**Q.6**"
      ]
    },
    {
      "cell_type": "code",
      "metadata": {
        "colab": {
          "base_uri": "https://localhost:8080/"
        },
        "id": "TLOG0Nmx8Pba",
        "outputId": "98c847a6-9d52-46f6-ac3c-5c52b082990f"
      },
      "source": [
        "def fac(n):\n",
        "  f=1\n",
        "  while(n>1):\n",
        "    f=f*(n)\n",
        "    n=n-1\n",
        "  return f\n",
        "\n",
        "def c(n,r):\n",
        "  return int(fac(n)/(fac(r)*fac(n-r)))\n",
        "  \n",
        "\n",
        "for i in range(0,7):\n",
        "  x=0\n",
        "  for j in range(i+1):\n",
        "    print(c(i,x),end=\" \")\n",
        "    x=x+1\n",
        "  print()"
      ],
      "execution_count": null,
      "outputs": [
        {
          "output_type": "stream",
          "text": [
            "1 \n",
            "1 1 \n",
            "1 2 1 \n",
            "1 3 3 1 \n",
            "1 4 6 4 1 \n",
            "1 5 10 10 5 1 \n",
            "1 6 15 20 15 6 1 \n"
          ],
          "name": "stdout"
        }
      ]
    },
    {
      "cell_type": "markdown",
      "metadata": {
        "id": "_PojJwSH8TGV"
      },
      "source": [
        "**Q.7**"
      ]
    },
    {
      "cell_type": "code",
      "metadata": {
        "colab": {
          "base_uri": "https://localhost:8080/"
        },
        "id": "c2itlrBJ8VKW",
        "outputId": "dde76768-244a-467d-83a5-7f421596e5c4"
      },
      "source": [
        "for i in range(1,6):\n",
        "  for j in range(1,6):\n",
        "    if j<=i:\n",
        "      print(i,end=' ')\n",
        "    else:\n",
        "      print(j,end=' ')\n",
        "  print()"
      ],
      "execution_count": null,
      "outputs": [
        {
          "output_type": "stream",
          "text": [
            "1 2 3 4 5 \n",
            "2 2 3 4 5 \n",
            "3 3 3 4 5 \n",
            "4 4 4 4 5 \n",
            "5 5 5 5 5 \n"
          ],
          "name": "stdout"
        }
      ]
    },
    {
      "cell_type": "markdown",
      "metadata": {
        "id": "HG9GvAsN8hmd"
      },
      "source": [
        "**Q.8**"
      ]
    },
    {
      "cell_type": "code",
      "metadata": {
        "colab": {
          "base_uri": "https://localhost:8080/"
        },
        "id": "zdzPT2CW8j43",
        "outputId": "86799b8b-c025-4543-c8c6-dd47759422f8"
      },
      "source": [
        "for i in range(1,9):\n",
        "  for j in range(1,i+1):\n",
        "    print(i*j,end=' ')\n",
        "  print()"
      ],
      "execution_count": null,
      "outputs": [
        {
          "output_type": "stream",
          "text": [
            "1 \n",
            "2 4 \n",
            "3 6 9 \n",
            "4 8 12 16 \n",
            "5 10 15 20 25 \n",
            "6 12 18 24 30 36 \n",
            "7 14 21 28 35 42 49 \n",
            "8 16 24 32 40 48 56 64 \n"
          ],
          "name": "stdout"
        }
      ]
    },
    {
      "cell_type": "markdown",
      "metadata": {
        "id": "8oEAdmYr8oKw"
      },
      "source": [
        "**Q.9**"
      ]
    },
    {
      "cell_type": "code",
      "metadata": {
        "colab": {
          "base_uri": "https://localhost:8080/"
        },
        "id": "4ImVi8OM8qq9",
        "outputId": "8d7b1906-a64b-4ec8-c360-88fc3a5bc469"
      },
      "source": [
        "for i in range(0,6):\n",
        "  for j in range(i):\n",
        "    print(\" \",end=\"\")\n",
        "  for k in range(6-i):\n",
        "   print(\"* \",end=\"\")\n",
        "  print(\"\\n\")"
      ],
      "execution_count": null,
      "outputs": [
        {
          "output_type": "stream",
          "text": [
            "* * * * * * \n",
            "\n",
            " * * * * * \n",
            "\n",
            "  * * * * \n",
            "\n",
            "   * * * \n",
            "\n",
            "    * * \n",
            "\n",
            "     * \n",
            "\n"
          ],
          "name": "stdout"
        }
      ]
    },
    {
      "cell_type": "markdown",
      "metadata": {
        "id": "T44-wQY88vb9"
      },
      "source": [
        "**Q.10**"
      ]
    },
    {
      "cell_type": "code",
      "metadata": {
        "colab": {
          "base_uri": "https://localhost:8080/"
        },
        "id": "YdBHCtZk8yhg",
        "outputId": "9eab3ae2-43d6-469c-b61b-a26c01950593"
      },
      "source": [
        "for i in range(0,8):\n",
        "  for j in range(8-i):\n",
        "    print(\" \",end=\"\")\n",
        "  for k in range(i):\n",
        "   print(\"* \",end=\"\")\n",
        "  print(\"\\n\")"
      ],
      "execution_count": null,
      "outputs": [
        {
          "output_type": "stream",
          "text": [
            "        \n",
            "\n",
            "       * \n",
            "\n",
            "      * * \n",
            "\n",
            "     * * * \n",
            "\n",
            "    * * * * \n",
            "\n",
            "   * * * * * \n",
            "\n",
            "  * * * * * * \n",
            "\n",
            " * * * * * * * \n",
            "\n"
          ],
          "name": "stdout"
        }
      ]
    },
    {
      "cell_type": "markdown",
      "metadata": {
        "id": "mNwTqOiX85ut"
      },
      "source": [
        "**Q.11**"
      ]
    },
    {
      "cell_type": "code",
      "metadata": {
        "colab": {
          "base_uri": "https://localhost:8080/"
        },
        "id": "oSyJzYaQ89QS",
        "outputId": "066be6df-067a-4268-9ef8-fd3e16978a41"
      },
      "source": [
        "for i in range(0,6):\n",
        "  for j in range(0,i+1):\n",
        "    print(\"*\",end=' ')\n",
        "  print()\n",
        "\n",
        "print()\n",
        "\n",
        "for i in range(7,0,-1):\n",
        "  for j in range(0,i-1):\n",
        "    print(\"*\",end=' ')\n",
        "  print()"
      ],
      "execution_count": null,
      "outputs": [
        {
          "output_type": "stream",
          "text": [
            "* \n",
            "* * \n",
            "* * * \n",
            "* * * * \n",
            "* * * * * \n",
            "* * * * * * \n",
            "\n",
            "* * * * * * \n",
            "* * * * * \n",
            "* * * * \n",
            "* * * \n",
            "* * \n",
            "* \n",
            "\n"
          ],
          "name": "stdout"
        }
      ]
    },
    {
      "cell_type": "markdown",
      "metadata": {
        "id": "LIvw-5q09CD_"
      },
      "source": [
        "**Q.12**"
      ]
    },
    {
      "cell_type": "code",
      "metadata": {
        "colab": {
          "base_uri": "https://localhost:8080/"
        },
        "id": "JR99wFKi9ErI",
        "outputId": "cf7256f8-82a7-407f-e561-503290f82038"
      },
      "source": [
        "for i in range(0,5):\n",
        "  for j in range(0,i+1):\n",
        "    print(\"*\",end=' ')\n",
        "  print()\n",
        "\n",
        "for i in range(5,0,-1):\n",
        "  for j in range(0,i-1):\n",
        "    print(\"*\",end=' ')\n",
        "  print()"
      ],
      "execution_count": null,
      "outputs": [
        {
          "output_type": "stream",
          "text": [
            "* \n",
            "* * \n",
            "* * * \n",
            "* * * * \n",
            "* * * * * \n",
            "* * * * \n",
            "* * * \n",
            "* * \n",
            "* \n",
            "\n"
          ],
          "name": "stdout"
        }
      ]
    },
    {
      "cell_type": "markdown",
      "metadata": {
        "id": "57u4hvMk9Jjq"
      },
      "source": [
        "**Q.13**"
      ]
    },
    {
      "cell_type": "code",
      "metadata": {
        "colab": {
          "base_uri": "https://localhost:8080/"
        },
        "id": "fRcwx4Ep9NAK",
        "outputId": "adc66e92-fd2d-4866-b9e3-7894b04802b6"
      },
      "source": [
        "for i in range(0,6):\n",
        "  for j in range(6-i):\n",
        "    print(\"  \",end=\"\")\n",
        "  for k in range(i):\n",
        "   print(\"* \",end=\"\")\n",
        "  print(\"\\n\")\n",
        "for i in range(1,5):\n",
        "  for j in range(i+1):\n",
        "    print(\"  \",end=\"\")\n",
        "  for k in range(5-i):\n",
        "   print(\"* \",end=\"\")\n",
        "  print(\"\\n\")"
      ],
      "execution_count": null,
      "outputs": [
        {
          "output_type": "stream",
          "text": [
            "            \n",
            "\n",
            "          * \n",
            "\n",
            "        * * \n",
            "\n",
            "      * * * \n",
            "\n",
            "    * * * * \n",
            "\n",
            "  * * * * * \n",
            "\n",
            "    * * * * \n",
            "\n",
            "      * * * \n",
            "\n",
            "        * * \n",
            "\n",
            "          * \n",
            "\n"
          ],
          "name": "stdout"
        }
      ]
    },
    {
      "cell_type": "markdown",
      "metadata": {
        "id": "-Nen39kA9Spy"
      },
      "source": [
        "**Q.14**"
      ]
    },
    {
      "cell_type": "code",
      "metadata": {
        "colab": {
          "base_uri": "https://localhost:8080/"
        },
        "id": "f1JkywSY9Uym",
        "outputId": "736a60cb-fee4-49de-cfb8-418cf3574939"
      },
      "source": [
        "for i in range(1,6):\n",
        "  for j in range(i):\n",
        "    print(\" \",end=\"\")\n",
        "  for k in range(6-i):\n",
        "   print(\"* \",end=\"\")\n",
        "  print(\"\\n\")\n",
        "for i in range(0,6):\n",
        "  for j in range(6-i):\n",
        "    print(\" \",end=\"\")\n",
        "  for k in range(i):\n",
        "   print(\"* \",end=\"\")\n",
        "  print(\"\\n\")"
      ],
      "execution_count": null,
      "outputs": [
        {
          "output_type": "stream",
          "text": [
            " * * * * * \n",
            "\n",
            "  * * * * \n",
            "\n",
            "   * * * \n",
            "\n",
            "    * * \n",
            "\n",
            "     * \n",
            "\n",
            "      \n",
            "\n",
            "     * \n",
            "\n",
            "    * * \n",
            "\n",
            "   * * * \n",
            "\n",
            "  * * * * \n",
            "\n",
            " * * * * * \n",
            "\n"
          ],
          "name": "stdout"
        }
      ]
    },
    {
      "cell_type": "markdown",
      "metadata": {
        "id": "iWmIw9ml9abh"
      },
      "source": [
        "**Q.15**"
      ]
    },
    {
      "cell_type": "code",
      "metadata": {
        "colab": {
          "base_uri": "https://localhost:8080/"
        },
        "id": "k336g79c9cl1",
        "outputId": "a5bf7d4d-73c0-445d-bcb0-1d3d0b36502b"
      },
      "source": [
        "for i in range(0,8):\n",
        "  for j in range(8-i):\n",
        "    print(\"* \",end=\"\")\n",
        "  for k in range(i*2):\n",
        "    print(\"_ \",end=\"\")\n",
        "  for l in range(8-i):\n",
        "    print(\"* \",end=\"\")\n",
        "  print(\"\\n\")"
      ],
      "execution_count": null,
      "outputs": [
        {
          "output_type": "stream",
          "text": [
            "* * * * * * * * * * * * * * * * \n",
            "\n",
            "* * * * * * * _ _ * * * * * * * \n",
            "\n",
            "* * * * * * _ _ _ _ * * * * * * \n",
            "\n",
            "* * * * * _ _ _ _ _ _ * * * * * \n",
            "\n",
            "* * * * _ _ _ _ _ _ _ _ * * * * \n",
            "\n",
            "* * * _ _ _ _ _ _ _ _ _ _ * * * \n",
            "\n",
            "* * _ _ _ _ _ _ _ _ _ _ _ _ * * \n",
            "\n",
            "* _ _ _ _ _ _ _ _ _ _ _ _ _ _ * \n",
            "\n"
          ],
          "name": "stdout"
        }
      ]
    }
  ]
}